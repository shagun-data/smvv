{
  "nbformat": 4,
  "nbformat_minor": 0,
  "metadata": {
    "colab": {
      "provenance": []
    },
    "kernelspec": {
      "name": "python3",
      "display_name": "Python 3"
    },
    "language_info": {
      "name": "python"
    }
  },
  "cells": [
    {
      "cell_type": "markdown",
      "source": [
        "### Ques1. What is a Support Vector Machine (SVM)?\n",
        "**Ans1:** A Support Vector Machine (SVM) is a supervised machine learning algorithm used for classification and regression. It works by finding the optimal hyperplane that best separates data points of different classes with the maximum margin.\n",
        "\n",
        "---\n",
        "\n",
        "### Ques2. What is the difference between Hard Margin and Soft Margin SVM?\n",
        "**Ans2:**  \n",
        "- **Hard Margin SVM** assumes the data is linearly separable and does not allow any misclassification.  \n",
        "- **Soft Margin SVM** allows some misclassification by introducing a penalty, enabling better generalization for noisy data.\n",
        "\n",
        "---\n",
        "\n",
        "### Ques3. What is the mathematical intuition behind SVM?\n",
        "**Ans3:** SVM maximizes the margin between classes by minimizing the norm of the weight vector \\( ||w|| \\), while ensuring data points are correctly classified or incur minimal error. This leads to a convex optimization problem.\n",
        "\n",
        "---\n",
        "\n",
        "### Ques4. What is the role of Lagrange Multipliers in SVM?\n",
        "**Ans4:** Lagrange multipliers help convert the constrained optimization problem of SVM into its dual form, allowing efficient computation and the use of kernel functions. They help identify support vectors that define the decision boundary.\n",
        "\n",
        "---\n",
        "\n",
        "### Ques5. What are Support Vectors in SVM?\n",
        "**Ans5:** Support Vectors are the data points closest to the decision boundary. They are critical in defining the hyperplane, and the SVM model is entirely based on them.\n",
        "\n",
        "---\n",
        "\n",
        "### Ques6. What is a Support Vector Classifier (SVC)?\n",
        "**Ans6:** SVC is the classification implementation of SVM. It finds the best hyperplane that separates labeled data points into classes.\n",
        "\n",
        "---\n",
        "\n",
        "### Ques7. What is a Support Vector Regressor (SVR)?\n",
        "**Ans7:** SVR is the regression counterpart of SVM. It fits a line (or curve) within a specified margin (epsilon) while minimizing the prediction error beyond that margin.\n",
        "\n",
        "---\n",
        "\n",
        "### Ques8. What is the Kernel Trick in SVM?\n",
        "**Ans8:** The Kernel Trick enables SVM to handle non-linear data by mapping inputs into high-dimensional space without explicitly transforming them. It uses kernel functions to compute inner products in this space efficiently.\n",
        "\n",
        "---\n",
        "\n",
        "### Ques9. Compare Linear Kernel, Polynomial Kernel, and RBF Kernel:\n",
        "**Ans9:**  \n",
        "- **Linear Kernel:** Best for linearly separable data; simple and fast.  \n",
        "- **Polynomial Kernel:** Captures interactions between features; more complex.  \n",
        "- **RBF Kernel:** Suitable for non-linear problems; flexible and widely used.\n",
        "\n",
        "---\n",
        "\n",
        "### Ques10. What is the effect of the C parameter in SVM?\n",
        "**Ans10:**  \n",
        "- **High C:** Penalizes misclassification heavily; results in a smaller margin and overfitting risk.  \n",
        "- **Low C:** Allows more misclassifications; results in a larger margin and better generalization.\n",
        "\n",
        "---\n",
        "\n",
        "### Ques11. What is the role of the Gamma parameter in RBF Kernel SVM?\n",
        "**Ans11:**  \n",
        "- **High Gamma:** Each point has short-range influence; can overfit.  \n",
        "- **Low Gamma:** Points have broader influence; can underfit. Gamma controls how much influence a single data point has.\n",
        "\n",
        "---\n",
        "\n",
        "### Ques12. What is the Naïve Bayes classifier, and why is it called \"Naïve\"?\n",
        "**Ans12:** Naïve Bayes is a probabilistic classifier based on Bayes' Theorem. It is called \"naïve\" because it assumes all features are independent of each other given the class label, which is often not the case.\n",
        "\n",
        "---\n",
        "\n",
        "### Ques13. What is Bayes’ Theorem?\n",
        "**Ans13:**  \n",
        "Bayes' Theorem is:\n",
        "\\[\n",
        "P(A|B) = \\frac{P(B|A) \\cdot P(A)}{P(B)}\n",
        "\\]  \n",
        "It calculates the probability of an event (A) given that another event (B) has occurred. It is the foundation of Naïve Bayes classification.\n",
        "\n",
        "---\n",
        "\n",
        "### Ques14. Explain the differences between Gaussian Naïve Bayes, Multinomial Naïve Bayes, and Bernoulli Naïve Bayes:\n",
        "**Ans14:**  \n",
        "- **Gaussian NB:** Used when features are continuous and normally distributed.  \n",
        "- **Multinomial NB:** Used for discrete counts, like word frequencies in text.  \n",
        "- **Bernoulli NB:** Used for binary features, such as word presence/absence.\n",
        "\n",
        "---\n",
        "\n",
        "### Ques15. When should you use Gaussian Naïve Bayes over other variants?\n",
        "**Ans15:** Use Gaussian NB when your features are continuous and roughly follow a normal (Gaussian) distribution, like sensor data, salary, height, etc.\n",
        "\n",
        "---\n",
        "\n",
        "### Ques16. What are the key assumptions made by Naïve Bayes?\n",
        "**Ans16:**  \n",
        "1. All features are conditionally independent given the class label.  \n",
        "2. All features contribute equally to the outcome.\n",
        "\n",
        "---\n",
        "\n",
        "### Ques17. What are the advantages and disadvantages of Naïve Bayes?\n",
        "**Ans17:**  \n",
        "**Advantages:**  \n",
        "- Fast and easy to implement  \n",
        "- Works well with large and high-dimensional datasets  \n",
        "- Great for text classification  \n",
        "\n",
        "**Disadvantages:**  \n",
        "- Assumes independence between features  \n",
        "- Can perform poorly if this assumption is strongly violated\n",
        "\n",
        "---\n",
        "\n",
        "### Ques18. Why is Naïve Bayes a good choice for text classification?\n",
        "**Ans18:** Because text data is usually high-dimensional and sparse, and Naïve Bayes performs well under such conditions with models like Multinomial and Bernoulli NB.\n",
        "\n",
        "---\n",
        "\n",
        "### Ques19. Compare SVM and Naïve Bayes for classification tasks:\n",
        "**Ans19:**  \n",
        "- **SVM:** More accurate with well-separated and structured data; more computationally intensive.  \n",
        "- **Naïve Bayes:** Fast and efficient for high-dimensional, noisy, and sparse data; less accurate if feature independence is not valid.\n",
        "\n",
        "---\n",
        "\n",
        "### Ques20. How does Laplace Smoothing help in Naïve Bayes?\n",
        "**Ans20:** Laplace Smoothing avoids assigning zero probability to unseen features by adding a small constant (usually 1) to all feature counts. This ensures the model can handle new data gracefully.\n"
      ],
      "metadata": {
        "id": "Edy4GegZnbVp"
      }
    },
    {
      "cell_type": "code",
      "execution_count": 3,
      "metadata": {
        "colab": {
          "base_uri": "https://localhost:8080/"
        },
        "id": "1ZtizzBwmYyn",
        "outputId": "6437919c-21f0-4772-d9b1-65e29dd16fcf"
      },
      "outputs": [
        {
          "output_type": "stream",
          "name": "stdout",
          "text": [
            "Accuracy: 1.0\n"
          ]
        }
      ],
      "source": [
        "### Ques1. Write a Python program to train an SVM Classifier on the Iris dataset and evaluate accuracy:\n",
        "\n",
        "from sklearn import datasets\n",
        "from sklearn.model_selection import train_test_split\n",
        "from sklearn.svm import SVC\n",
        "from sklearn.metrics import accuracy_score\n",
        "\n",
        "# Load dataset\n",
        "iris = datasets.load_iris()\n",
        "X, y = iris.data, iris.target\n",
        "\n",
        "# Split data\n",
        "X_train, X_test, y_train, y_test = train_test_split(X, y, test_size=0.3, random_state=42)\n",
        "\n",
        "# Train SVM\n",
        "model = SVC()\n",
        "model.fit(X_train, y_train)\n",
        "\n",
        "# Predict and evaluate\n",
        "y_pred = model.predict(X_test)\n",
        "print(\"Accuracy:\", accuracy_score(y_test, y_pred))\n"
      ]
    },
    {
      "cell_type": "code",
      "source": [
        "from sklearn.datasets import load_wine\n",
        "from sklearn.svm import SVC\n",
        "from sklearn.model_selection import train_test_split\n",
        "from sklearn.metrics import accuracy_score\n",
        "\n",
        "# Load dataset\n",
        "wine = load_wine()\n",
        "X, y = wine.data, wine.target\n",
        "\n",
        "# Split data\n",
        "X_train, X_test, y_train, y_test = train_test_split(X, y, test_size=0.3, random_state=42)\n",
        "\n",
        "# Linear kernel\n",
        "svc_linear = SVC(kernel='linear')\n",
        "svc_linear.fit(X_train, y_train)\n",
        "acc_linear = accuracy_score(y_test, svc_linear.predict(X_test))\n",
        "\n",
        "# RBF kernel\n",
        "svc_rbf = SVC(kernel='rbf')\n",
        "svc_rbf.fit(X_train, y_train)\n",
        "acc_rbf = accuracy_score(y_test, svc_rbf.predict(X_test))\n",
        "\n",
        "print(\"Linear Kernel Accuracy:\", acc_linear)\n",
        "print(\"RBF Kernel Accuracy:\", acc_rbf)\n"
      ],
      "metadata": {
        "colab": {
          "base_uri": "https://localhost:8080/"
        },
        "id": "WaHNclLIoZgz",
        "outputId": "b0828d7d-0351-46ba-800a-31af57edd0cd"
      },
      "execution_count": 4,
      "outputs": [
        {
          "output_type": "stream",
          "name": "stdout",
          "text": [
            "Linear Kernel Accuracy: 0.9814814814814815\n",
            "RBF Kernel Accuracy: 0.7592592592592593\n"
          ]
        }
      ]
    },
    {
      "cell_type": "code",
      "source": [
        "from sklearn.datasets import load_wine\n",
        "from sklearn.svm import SVC\n",
        "from sklearn.model_selection import train_test_split\n",
        "from sklearn.metrics import accuracy_score\n",
        "\n",
        "# Load dataset\n",
        "wine = load_wine()\n",
        "X, y = wine.data, wine.target\n",
        "\n",
        "# Split data\n",
        "X_train, X_test, y_train, y_test = train_test_split(X, y, test_size=0.3, random_state=42)\n",
        "\n",
        "# Linear kernel\n",
        "svc_linear = SVC(kernel='linear')\n",
        "svc_linear.fit(X_train, y_train)\n",
        "acc_linear = accuracy_score(y_test, svc_linear.predict(X_test))\n",
        "\n",
        "# RBF kernel\n",
        "svc_rbf = SVC(kernel='rbf')\n",
        "svc_rbf.fit(X_train, y_train)\n",
        "acc_rbf = accuracy_score(y_test, svc_rbf.predict(X_test))\n",
        "\n",
        "print(\"Linear Kernel Accuracy:\", acc_linear)\n",
        "print(\"RBF Kernel Accuracy:\", acc_rbf)\n"
      ],
      "metadata": {
        "colab": {
          "base_uri": "https://localhost:8080/"
        },
        "id": "Uw2XRLLvoce_",
        "outputId": "67283c19-323e-4465-f661-1855a7b20132"
      },
      "execution_count": 5,
      "outputs": [
        {
          "output_type": "stream",
          "name": "stdout",
          "text": [
            "Linear Kernel Accuracy: 0.9814814814814815\n",
            "RBF Kernel Accuracy: 0.7592592592592593\n"
          ]
        }
      ]
    },
    {
      "cell_type": "code",
      "source": [
        "from sklearn.datasets import fetch_california_housing\n",
        "from sklearn.model_selection import train_test_split\n",
        "from sklearn.svm import SVR\n",
        "from sklearn.metrics import mean_squared_error\n",
        "\n",
        "# Load dataset\n",
        "data = fetch_california_housing()\n",
        "X, y = data.data, data.target\n",
        "\n",
        "# Split data\n",
        "X_train, X_test, y_train, y_test = train_test_split(X, y, test_size=0.3, random_state=42)\n",
        "\n",
        "# Train SVR\n",
        "svr = SVR()\n",
        "svr.fit(X_train, y_train)\n",
        "\n",
        "# Predict and evaluate\n",
        "y_pred = svr.predict(X_test)\n",
        "print(\"Mean Squared Error:\", mean_squared_error(y_test, y_pred))\n"
      ],
      "metadata": {
        "colab": {
          "base_uri": "https://localhost:8080/"
        },
        "id": "E2eCYAm6ohf-",
        "outputId": "5a0b58df-60fd-4a34-e7e9-edc10c63aa3a"
      },
      "execution_count": 6,
      "outputs": [
        {
          "output_type": "stream",
          "name": "stdout",
          "text": [
            "Mean Squared Error: 1.3489971413208723\n"
          ]
        }
      ]
    },
    {
      "cell_type": "code",
      "source": [
        "# Q4\n",
        "import numpy as np\n",
        "import matplotlib.pyplot as plt\n",
        "from sklearn import datasets\n",
        "from sklearn.svm import SVC\n",
        "\n",
        "# Load data (2D only for visualization)\n",
        "X, y = datasets.make_moons(n_samples=100, noise=0.2, random_state=42)\n",
        "\n",
        "# Train SVM with polynomial kernel\n",
        "model = SVC(kernel='poly', degree=3)\n",
        "model.fit(X, y)\n",
        "\n",
        "# Plotting decision boundary\n",
        "def plot_decision_boundary(model, X, y):\n",
        "    h = 0.02\n",
        "    x_min, x_max = X[:, 0].min() - 1, X[:, 0].max() + 1\n",
        "    y_min, y_max = X[:, 1].min() - 1, X[:, 1].max() + 1\n",
        "    xx, yy = np.meshgrid(np.arange(x_min, x_max, h),\n",
        "                         np.arange(y_min, y_max, h))\n",
        "    Z = model.predict(np.c_[xx.ravel(), yy.ravel()])\n",
        "    Z = Z.reshape(xx.shape)\n",
        "    plt.contourf(xx, yy, Z, cmap=plt.cm.coolwarm, alpha=0.8)\n",
        "    plt.scatter(X[:, 0], X[:, 1], c=y, edgecolors='k', cmap=plt.cm.coolwarm)\n",
        "    plt.xlabel('Feature 1')\n",
        "    plt.ylabel('Feature 2')\n",
        "    plt.title('SVM with Polynomial Kernel')\n",
        "    plt.show()\n",
        "\n",
        "plot_decision_boundary(model, X, y)\n"
      ],
      "metadata": {
        "colab": {
          "base_uri": "https://localhost:8080/",
          "height": 472
        },
        "id": "fVZ4Ank7okiN",
        "outputId": "334be920-6cd2-4d7d-8d2a-0e76bab062bb"
      },
      "execution_count": 7,
      "outputs": [
        {
          "output_type": "display_data",
          "data": {
            "text/plain": [
              "<Figure size 640x480 with 1 Axes>"
            ],
            "image/png": "[encoded data removed]"
          },
          "metadata": {}
        }
      ]
    },
    {
      "cell_type": "code",
      "source": [
        "# Q5\n",
        "from sklearn.datasets import load_breast_cancer\n",
        "from sklearn.naive_bayes import GaussianNB\n",
        "from sklearn.model_selection import train_test_split\n",
        "from sklearn.metrics import accuracy_score\n",
        "\n",
        "# Load data\n",
        "data = load_breast_cancer()\n",
        "X, y = data.data, data.target\n",
        "\n",
        "# Split data\n",
        "X_train, X_test, y_train, y_test = train_test_split(X, y, test_size=0.3, random_state=42)\n",
        "\n",
        "# Train classifier\n",
        "gnb = GaussianNB()\n",
        "gnb.fit(X_train, y_train)\n",
        "\n",
        "# Predict and evaluate\n",
        "y_pred = gnb.predict(X_test)\n",
        "print(\"Accuracy:\", accuracy_score(y_test, y_pred))\n"
      ],
      "metadata": {
        "colab": {
          "base_uri": "https://localhost:8080/"
        },
        "id": "XvRi1hdsokck",
        "outputId": "37a6328b-b3b1-4e0b-80cd-ac15c0732810"
      },
      "execution_count": 8,
      "outputs": [
        {
          "output_type": "stream",
          "name": "stdout",
          "text": [
            "Accuracy: 0.9415204678362573\n"
          ]
        }
      ]
    },
    {
      "cell_type": "code",
      "source": [
        "# Q6\n",
        "from sklearn.datasets import fetch_20newsgroups\n",
        "from sklearn.feature_extraction.text import CountVectorizer\n",
        "from sklearn.naive_bayes import MultinomialNB\n",
        "from sklearn.model_selection import train_test_split\n",
        "from sklearn.metrics import accuracy_score\n",
        "\n",
        "# Load data\n",
        "data = fetch_20newsgroups(subset='all', shuffle=True, random_state=42)\n",
        "X, y = data.data, data.target\n",
        "\n",
        "# Vectorize text data\n",
        "vectorizer = CountVectorizer(stop_words='english')\n",
        "X_vec = vectorizer.fit_transform(X)\n",
        "\n",
        "# Split data\n",
        "X_train, X_test, y_train, y_test = train_test_split(X_vec, y, test_size=0.3, random_state=42)\n",
        "\n",
        "# Train model\n",
        "mnb = MultinomialNB()\n",
        "mnb.fit(X_train, y_train)\n",
        "\n",
        "# Predict and evaluate\n",
        "y_pred = mnb.predict(X_test)\n",
        "print(\"Accuracy:\", accuracy_score(y_test, y_pred))\n"
      ],
      "metadata": {
        "colab": {
          "base_uri": "https://localhost:8080/"
        },
        "id": "kITiryWQosR-",
        "outputId": "0d7b8a3d-8471-472a-e743-f2feb3df87cb"
      },
      "execution_count": 9,
      "outputs": [
        {
          "output_type": "stream",
          "name": "stdout",
          "text": [
            "Accuracy: 0.8749557835160948\n"
          ]
        }
      ]
    },
    {
      "cell_type": "code",
      "source": [
        "# Q7\n",
        "### Ques1. Write a Python program to train an SVM Classifier with different C values and compare the decision boundaries visually:\n",
        "\n",
        "import numpy as np\n",
        "import matplotlib.pyplot as plt\n",
        "from sklearn import datasets\n",
        "from sklearn.svm import SVC\n",
        "\n",
        "X, y = datasets.make_classification(n_samples=100, n_features=2, n_redundant=0, n_clusters_per_class=1, random_state=42)\n",
        "\n",
        "def plot_svm_with_c_values(X, y, C_values):\n",
        "    for C in C_values:\n",
        "        model = SVC(kernel='linear', C=C)\n",
        "        model.fit(X, y)\n",
        "        plt.figure()\n",
        "        plt.title(f\"SVM with C = {C}\")\n",
        "\n",
        "        w = model.coef_[0]\n",
        "        b = model.intercept_[0]\n",
        "        x_plot = np.linspace(X[:, 0].min(), X[:, 0].max(), 100)\n",
        "        y_plot = -(w[0] * x_plot + b) / w[1]\n",
        "\n",
        "        plt.scatter(X[:, 0], X[:, 1], c=y, cmap='coolwarm')\n",
        "        plt.plot(x_plot, y_plot, 'k-')\n",
        "        plt.xlabel('Feature 1')\n",
        "        plt.ylabel('Feature 2')\n",
        "        plt.show()\n",
        "\n",
        "plot_svm_with_c_values(X, y, [0.01, 1, 100])\n"
      ],
      "metadata": {
        "colab": {
          "base_uri": "https://localhost:8080/",
          "height": 1000
        },
        "id": "JKijuUlso9X9",
        "outputId": "1c9e5f6e-3738-44c5-8242-26878c400ab5"
      },
      "execution_count": 10,
      "outputs": [
        {
          "output_type": "display_data",
          "data": {
            "text/plain": [
              "<Figure size 640x480 with 1 Axes>"
            ],
            "image/png": "[encoded data removed]"
          },
          "metadata": {}
        },
        {
          "output_type": "display_data",
          "data": {
            "text/plain": [
              "<Figure size 640x480 with 1 Axes>"
            ],
            "image/png": "[encoded data removed]"
          },
          "metadata": {}
        },
        {
          "output_type": "display_data",
          "data": {
            "text/plain": [
              "<Figure size 640x480 with 1 Axes>"
            ],
            "image/png": "[encoded data removed]"
          },
          "metadata": {}
        }
      ]
    },
    {
      "cell_type": "code",
      "source": [
        "# Q8\n",
        "from sklearn.naive_bayes import BernoulliNB\n",
        "from sklearn.model_selection import train_test_split\n",
        "from sklearn.metrics import accuracy_score\n",
        "from sklearn.datasets import make_classification\n",
        "import numpy as np\n",
        "\n",
        "X, y = make_classification(n_samples=1000, n_features=20, n_classes=2, random_state=42)\n",
        "X_bin = np.where(X > 0, 1, 0)\n",
        "\n",
        "X_train, X_test, y_train, y_test = train_test_split(X_bin, y, test_size=0.3, random_state=42)\n",
        "\n",
        "bnb = BernoulliNB()\n",
        "bnb.fit(X_train, y_train)\n",
        "y_pred = bnb.predict(X_test)\n",
        "print(\"Accuracy:\", accuracy_score(y_test, y_pred))\n"
      ],
      "metadata": {
        "colab": {
          "base_uri": "https://localhost:8080/"
        },
        "id": "VEROuDF-pCXi",
        "outputId": "7d16c98b-7090-47a3-ca1a-07a50f205aaf"
      },
      "execution_count": 11,
      "outputs": [
        {
          "output_type": "stream",
          "name": "stdout",
          "text": [
            "Accuracy: 0.7966666666666666\n"
          ]
        }
      ]
    },
    {
      "cell_type": "code",
      "source": [
        "# Q9\n",
        "from sklearn import datasets\n",
        "from sklearn.model_selection import train_test_split\n",
        "from sklearn.preprocessing import StandardScaler\n",
        "from sklearn.svm import SVC\n",
        "from sklearn.metrics import accuracy_score\n",
        "\n",
        "X, y = datasets.load_breast_cancer(return_X_y=True)\n",
        "X_train, X_test, y_train, y_test = train_test_split(X, y, test_size=0.3, random_state=42)\n",
        "\n",
        "# Without Scaling\n",
        "model_unscaled = SVC()\n",
        "model_unscaled.fit(X_train, y_train)\n",
        "acc_unscaled = accuracy_score(y_test, model_unscaled.predict(X_test))\n",
        "\n",
        "# With Scaling\n",
        "scaler = StandardScaler()\n",
        "X_train_scaled = scaler.fit_transform(X_train)\n",
        "X_test_scaled = scaler.transform(X_test)\n",
        "\n",
        "model_scaled = SVC()\n",
        "model_scaled.fit(X_train_scaled, y_train)\n",
        "acc_scaled = accuracy_score(y_test, model_scaled.predict(X_test_scaled))\n",
        "\n",
        "print(\"Accuracy without scaling:\", acc_unscaled)\n",
        "print(\"Accuracy with scaling:\", acc_scaled)\n"
      ],
      "metadata": {
        "colab": {
          "base_uri": "https://localhost:8080/"
        },
        "id": "SbSKbZKypG7s",
        "outputId": "e6ea5732-af1b-44d6-905f-b0a012c6b8ba"
      },
      "execution_count": 12,
      "outputs": [
        {
          "output_type": "stream",
          "name": "stdout",
          "text": [
            "Accuracy without scaling: 0.935672514619883\n",
            "Accuracy with scaling: 0.9766081871345029\n"
          ]
        }
      ]
    },
    {
      "cell_type": "code",
      "source": [
        "# Q10\n",
        "# GaussianNB doesn't support Laplace Smoothing directly.\n",
        "# We'll simulate it using custom class count adjustments (mostly relevant for Multinomial/BernoulliNB)\n",
        "# This is just an illustration; Laplace is more meaningful for discrete models.\n",
        "\n",
        "from sklearn.datasets import load_iris\n",
        "from sklearn.naive_bayes import GaussianNB\n",
        "from sklearn.model_selection import train_test_split\n",
        "from sklearn.metrics import accuracy_score\n",
        "\n",
        "X, y = load_iris(return_X_y=True)\n",
        "X_train, X_test, y_train, y_test = train_test_split(X, y, test_size=0.3, random_state=42)\n",
        "\n",
        "# Original GNB\n",
        "gnb = GaussianNB()\n",
        "gnb.fit(X_train, y_train)\n",
        "pred1 = gnb.predict(X_test)\n",
        "print(\"Accuracy (Original GaussianNB):\", accuracy_score(y_test, pred1))\n",
        "\n",
        "# Manual \"smoothing\" via variance adjustment (not traditional Laplace)\n",
        "gnb.var_smoothing = 1e-7\n",
        "gnb.fit(X_train, y_train)\n",
        "pred2 = gnb.predict(X_test)\n",
        "print(\"Accuracy (After small var_smoothing):\", accuracy_score(y_test, pred2))\n"
      ],
      "metadata": {
        "colab": {
          "base_uri": "https://localhost:8080/"
        },
        "id": "Ta0fC_h3pJyW",
        "outputId": "6c89890a-86b3-4a6b-f89a-94e79c8c6d9a"
      },
      "execution_count": 13,
      "outputs": [
        {
          "output_type": "stream",
          "name": "stdout",
          "text": [
            "Accuracy (Original GaussianNB): 0.9777777777777777\n",
            "Accuracy (After small var_smoothing): 0.9777777777777777\n"
          ]
        }
      ]
    },
    {
      "cell_type": "code",
      "source": [
        "# Q11\n",
        "from sklearn import datasets\n",
        "from sklearn.svm import SVC\n",
        "from sklearn.model_selection import GridSearchCV, train_test_split\n",
        "\n",
        "X, y = datasets.load_iris(return_X_y=True)\n",
        "X_train, X_test, y_train, y_test = train_test_split(X, y, test_size=0.3, random_state=42)\n",
        "\n",
        "params = {\n",
        "    'C': [0.1, 1, 10],\n",
        "    'gamma': ['scale', 0.01, 1],\n",
        "    'kernel': ['linear', 'rbf']\n",
        "}\n",
        "\n",
        "grid = GridSearchCV(SVC(), params, cv=5)\n",
        "grid.fit(X_train, y_train)\n",
        "\n",
        "print(\"Best Parameters:\", grid.best_params_)\n",
        "print(\"Best Score:\", grid.best_score_)\n"
      ],
      "metadata": {
        "colab": {
          "base_uri": "https://localhost:8080/"
        },
        "id": "2AzwjE21pOTW",
        "outputId": "aae888e2-3d12-4a7d-a524-f76439757751"
      },
      "execution_count": 14,
      "outputs": [
        {
          "output_type": "stream",
          "name": "stdout",
          "text": [
            "Best Parameters: {'C': 1, 'gamma': 'scale', 'kernel': 'linear'}\n",
            "Best Score: 0.9619047619047618\n"
          ]
        }
      ]
    },
    {
      "cell_type": "code",
      "source": [
        "# Q12\n",
        "from sklearn.datasets import make_classification\n",
        "from sklearn.model_selection import train_test_split\n",
        "from sklearn.svm import SVC\n",
        "from sklearn.metrics import accuracy_score\n",
        "\n",
        "X, y = make_classification(n_samples=1000, weights=[0.9, 0.1], n_classes=2, random_state=42)\n",
        "X_train, X_test, y_train, y_test = train_test_split(X, y, test_size=0.3, random_state=42)\n",
        "\n",
        "# Without class weight\n",
        "clf1 = SVC()\n",
        "clf1.fit(X_train, y_train)\n",
        "acc1 = accuracy_score(y_test, clf1.predict(X_test))\n",
        "\n",
        "# With class weight\n",
        "clf2 = SVC(class_weight='balanced')\n",
        "clf2.fit(X_train, y_train)\n",
        "acc2 = accuracy_score(y_test, clf2.predict(X_test))\n",
        "\n",
        "print(\"Accuracy without class weight:\", acc1)\n",
        "print(\"Accuracy with class weight:\", acc2)\n"
      ],
      "metadata": {
        "colab": {
          "base_uri": "https://localhost:8080/"
        },
        "id": "9Sr0i_YPpSeg",
        "outputId": "aeb6ebb7-902c-4fe4-8a6e-937d819ba4b1"
      },
      "execution_count": 15,
      "outputs": [
        {
          "output_type": "stream",
          "name": "stdout",
          "text": [
            "Accuracy without class weight: 0.91\n",
            "Accuracy with class weight: 0.9\n"
          ]
        }
      ]
    },
    {
      "cell_type": "code",
      "source": [
        "from sklearn.model_selection import train_test_split\n",
        "from sklearn.naive_bayes import MultinomialNB\n",
        "from sklearn.feature_extraction.text import CountVectorizer\n",
        "from sklearn.metrics import accuracy_score\n",
        "\n",
        "# Example dataset (can replace with real spam CSV data)\n",
        "emails = [\"Win money now\", \"Hi friend, how are you?\", \"Limited offer!!!\", \"Lunch at 1pm?\", \"Congratulations, you’ve won\"]\n",
        "labels = [1, 0, 1, 0, 1]  # 1=spam, 0=ham\n",
        "\n",
        "vectorizer = CountVectorizer()\n",
        "X = vectorizer.fit_transform(emails)\n",
        "\n",
        "X_train, X_test, y_train, y_test = train_test_split(X, labels, test_size=0.3, random_state=42)\n",
        "model = MultinomialNB()\n",
        "model.fit(X_train, y_train)\n",
        "y_pred = model.predict(X_test)\n",
        "print(\"Accuracy:\", accuracy_score(y_test, y_pred))\n"
      ],
      "metadata": {
        "colab": {
          "base_uri": "https://localhost:8080/"
        },
        "id": "09ki4VrNpXbp",
        "outputId": "1fce6555-c242-4bf1-bdf0-4ccd39674806"
      },
      "execution_count": 16,
      "outputs": [
        {
          "output_type": "stream",
          "name": "stdout",
          "text": [
            "Accuracy: 0.5\n"
          ]
        }
      ]
    },
    {
      "cell_type": "code",
      "source": [
        "from sklearn import datasets\n",
        "from sklearn.model_selection import train_test_split\n",
        "from sklearn.svm import SVC\n",
        "from sklearn.naive_bayes import GaussianNB\n",
        "from sklearn.metrics import accuracy_score\n",
        "\n",
        "X, y = datasets.load_iris(return_X_y=True)\n",
        "X_train, X_test, y_train, y_test = train_test_split(X, y, test_size=0.3, random_state=42)\n",
        "\n",
        "svm = SVC()\n",
        "svm.fit(X_train, y_train)\n",
        "acc_svm = accuracy_score(y_test, svm.predict(X_test))\n",
        "\n",
        "nb = GaussianNB()\n",
        "nb.fit(X_train, y_train)\n",
        "acc_nb = accuracy_score(y_test, nb.predict(X_test))\n",
        "\n",
        "print(\"SVM Accuracy:\", acc_svm)\n",
        "print(\"Naïve Bayes Accuracy:\", acc_nb)\n"
      ],
      "metadata": {
        "colab": {
          "base_uri": "https://localhost:8080/"
        },
        "id": "779TCLuTpb-2",
        "outputId": "f0f397fd-327a-448a-a83d-c321c1ade1b7"
      },
      "execution_count": 17,
      "outputs": [
        {
          "output_type": "stream",
          "name": "stdout",
          "text": [
            "SVM Accuracy: 1.0\n",
            "Naïve Bayes Accuracy: 0.9777777777777777\n"
          ]
        }
      ]
    },
    {
      "cell_type": "code",
      "source": [
        "from sklearn.datasets import load_breast_cancer\n",
        "from sklearn.feature_selection import SelectKBest, f_classif\n",
        "from sklearn.model_selection import train_test_split\n",
        "from sklearn.naive_bayes import GaussianNB\n",
        "from sklearn.metrics import accuracy_score\n",
        "\n",
        "X, y = load_breast_cancer(return_X_y=True)\n",
        "X_train, X_test, y_train, y_test = train_test_split(X, y, test_size=0.3, random_state=42)\n",
        "\n",
        "# Without feature selection\n",
        "nb = GaussianNB()\n",
        "nb.fit(X_train, y_train)\n",
        "acc_full = accuracy_score(y_test, nb.predict(X_test))\n",
        "\n",
        "# With feature selection\n",
        "selector = SelectKBest(score_func=f_classif, k=10)\n",
        "X_train_sel = selector.fit_transform(X_train, y_train)\n",
        "X_test_sel = selector.transform(X_test)\n",
        "\n",
        "nb_sel = GaussianNB()\n",
        "nb_sel.fit(X_train_sel, y_train)\n",
        "acc_sel = accuracy_score(y_test, nb_sel.predict(X_test_sel))\n",
        "\n",
        "print(\"Accuracy without selection:\", acc_full)\n",
        "print(\"Accuracy with feature selection:\", acc_sel)\n"
      ],
      "metadata": {
        "colab": {
          "base_uri": "https://localhost:8080/"
        },
        "id": "1ta9h-0RpdyT",
        "outputId": "eb597fbd-afc0-4805-9143-d9c789c1f819"
      },
      "execution_count": 18,
      "outputs": [
        {
          "output_type": "stream",
          "name": "stdout",
          "text": [
            "Accuracy without selection: 0.9415204678362573\n",
            "Accuracy with feature selection: 0.9590643274853801\n"
          ]
        }
      ]
    },
    {
      "cell_type": "code",
      "source": [
        "from sklearn import datasets\n",
        "from sklearn.model_selection import train_test_split\n",
        "from sklearn.svm import SVC\n",
        "from sklearn.multiclass import OneVsRestClassifier, OneVsOneClassifier\n",
        "from sklearn.metrics import accuracy_score\n",
        "\n",
        "# Load the Wine dataset\n",
        "wine = datasets.load_wine()\n",
        "X, y = wine.data, wine.target\n",
        "\n",
        "# Split into train and test sets\n",
        "X_train, X_test, y_train, y_test = train_test_split(X, y, test_size=0.3, random_state=42)\n",
        "\n",
        "# OvR strategy\n",
        "ovr = OneVsRestClassifier(SVC(kernel='linear'))\n",
        "ovr.fit(X_train, y_train)\n",
        "ovr_preds = ovr.predict(X_test)\n",
        "\n",
        "# OvO strategy\n",
        "ovo = OneVsOneClassifier(SVC(kernel='linear'))\n",
        "ovo.fit(X_train, y_train)\n",
        "ovo_preds = ovo.predict(X_test)\n",
        "\n",
        "# Accuracy comparison\n",
        "print(\"One-vs-Rest Accuracy:\", accuracy_score(y_test, ovr_preds))\n",
        "print(\"One-vs-One Accuracy:\", accuracy_score(y_test, ovo_preds))\n"
      ],
      "metadata": {
        "colab": {
          "base_uri": "https://localhost:8080/"
        },
        "id": "nhTLnOSnpf1t",
        "outputId": "38c25b30-8247-4971-d60a-03262a5351ba"
      },
      "execution_count": 19,
      "outputs": [
        {
          "output_type": "stream",
          "name": "stdout",
          "text": [
            "One-vs-Rest Accuracy: 0.9814814814814815\n",
            "One-vs-One Accuracy: 0.9814814814814815\n"
          ]
        }
      ]
    },
    {
      "cell_type": "code",
      "source": [
        "from sklearn import datasets\n",
        "from sklearn.model_selection import train_test_split\n",
        "from sklearn.svm import SVC\n",
        "from sklearn.metrics import accuracy_score\n",
        "\n",
        "# Load Breast Cancer dataset\n",
        "cancer = datasets.load_breast_cancer()\n",
        "X, y = cancer.data, cancer.target\n",
        "\n",
        "# Split into train/test\n",
        "X_train, X_test, y_train, y_test = train_test_split(X, y, test_size=0.3, random_state=42)\n",
        "\n",
        "# Different kernel SVMs\n",
        "kernels = ['linear', 'poly', 'rbf']\n",
        "for kernel in kernels:\n",
        "    clf = SVC(kernel=kernel)\n",
        "    clf.fit(X_train, y_train)\n",
        "    preds = clf.predict(X_test)\n",
        "    print(f\"{kernel.capitalize()} Kernel Accuracy:\", accuracy_score(y_test, preds))\n"
      ],
      "metadata": {
        "colab": {
          "base_uri": "https://localhost:8080/"
        },
        "id": "kYdRFyGapw3w",
        "outputId": "cd70ae76-5cfc-4b85-f39a-8b3e56b347b5"
      },
      "execution_count": 20,
      "outputs": [
        {
          "output_type": "stream",
          "name": "stdout",
          "text": [
            "Linear Kernel Accuracy: 0.9649122807017544\n",
            "Poly Kernel Accuracy: 0.9415204678362573\n",
            "Rbf Kernel Accuracy: 0.935672514619883\n"
          ]
        }
      ]
    },
    {
      "cell_type": "code",
      "source": [
        "from sklearn.model_selection import StratifiedKFold, cross_val_score\n",
        "from sklearn.svm import SVC\n",
        "from sklearn.datasets import load_breast_cancer\n",
        "\n",
        "# Load dataset\n",
        "data = load_breast_cancer()\n",
        "X, y = data.data, data.target\n",
        "\n",
        "# Stratified K-Fold\n",
        "skf = StratifiedKFold(n_splits=5, shuffle=True, random_state=42)\n",
        "model = SVC(kernel='linear')\n",
        "\n",
        "# Cross-validation scores\n",
        "scores = cross_val_score(model, X, y, cv=skf)\n",
        "print(\"Fold Accuracies:\", scores)\n",
        "print(\"Average Accuracy:\", scores.mean())\n"
      ],
      "metadata": {
        "colab": {
          "base_uri": "https://localhost:8080/"
        },
        "id": "Gtlb5AgxpywO",
        "outputId": "e9d80494-1c26-4abd-b012-46440d0e89f6"
      },
      "execution_count": 21,
      "outputs": [
        {
          "output_type": "stream",
          "name": "stdout",
          "text": [
            "Fold Accuracies: [0.94736842 0.92982456 0.95614035 0.93859649 0.96460177]\n",
            "Average Accuracy: 0.9473063188945815\n"
          ]
        }
      ]
    },
    {
      "cell_type": "code",
      "source": [
        "from sklearn.datasets import load_breast_cancer\n",
        "from sklearn.model_selection import train_test_split\n",
        "from sklearn.naive_bayes import GaussianNB\n",
        "from sklearn.metrics import accuracy_score\n",
        "\n",
        "# Load dataset\n",
        "data = load_breast_cancer()\n",
        "X, y = data.data, data.target\n",
        "\n",
        "# Train/Test split\n",
        "X_train, X_test, y_train, y_test = train_test_split(X, y, test_size=0.3, random_state=42)\n",
        "\n",
        "# Try different prior probabilities\n",
        "priors = [[0.3, 0.7], [0.5, 0.5], [0.7, 0.3]]\n",
        "\n",
        "for prior in priors:\n",
        "    nb = GaussianNB(priors=prior)\n",
        "    nb.fit(X_train, y_train)\n",
        "    preds = nb.predict(X_test)\n",
        "    print(f\"Prior: {prior}, Accuracy: {accuracy_score(y_test, preds)}\")\n"
      ],
      "metadata": {
        "colab": {
          "base_uri": "https://localhost:8080/"
        },
        "id": "a1GYexEHp0i9",
        "outputId": "bc66f363-c968-495e-c8d8-7d4906901618"
      },
      "execution_count": 22,
      "outputs": [
        {
          "output_type": "stream",
          "name": "stdout",
          "text": [
            "Prior: [0.3, 0.7], Accuracy: 0.9473684210526315\n",
            "Prior: [0.5, 0.5], Accuracy: 0.9415204678362573\n",
            "Prior: [0.7, 0.3], Accuracy: 0.935672514619883\n"
          ]
        }
      ]
    },
    {
      "cell_type": "code",
      "source": [
        "from sklearn.feature_selection import RFE\n",
        "from sklearn.svm import SVC\n",
        "from sklearn.datasets import load_breast_cancer\n",
        "from sklearn.model_selection import train_test_split\n",
        "from sklearn.metrics import accuracy_score\n",
        "\n",
        "# Load data\n",
        "data = load_breast_cancer()\n",
        "X, y = data.data, data.target\n",
        "\n",
        "# Split data\n",
        "X_train, X_test, y_train, y_test = train_test_split(X, y, test_size=0.3, random_state=42)\n",
        "\n",
        "# SVM with all features\n",
        "svm = SVC(kernel='linear')\n",
        "svm.fit(X_train, y_train)\n",
        "preds_all = svm.predict(X_test)\n",
        "acc_all = accuracy_score(y_test, preds_all)\n",
        "\n",
        "# RFE for feature selection\n",
        "rfe = RFE(estimator=svm, n_features_to_select=10)\n",
        "rfe.fit(X_train, y_train)\n",
        "preds_rfe = rfe.predict(X_test)\n",
        "acc_rfe = accuracy_score(y_test, preds_rfe)\n",
        "\n",
        "print(\"Accuracy without RFE:\", acc_all)\n",
        "print(\"Accuracy with RFE:\", acc_rfe)\n"
      ],
      "metadata": {
        "colab": {
          "base_uri": "https://localhost:8080/"
        },
        "id": "_qBesHikp2Ut",
        "outputId": "9e0bcca3-1e64-4504-b38d-4ee97ed3a986"
      },
      "execution_count": 23,
      "outputs": [
        {
          "output_type": "stream",
          "name": "stdout",
          "text": [
            "Accuracy without RFE: 0.9649122807017544\n",
            "Accuracy with RFE: 0.9298245614035088\n"
          ]
        }
      ]
    },
    {
      "cell_type": "code",
      "source": [
        "from sklearn.metrics import precision_score, recall_score, f1_score\n",
        "from sklearn.svm import SVC\n",
        "from sklearn.datasets import load_breast_cancer\n",
        "from sklearn.model_selection import train_test_split\n",
        "\n",
        "# Load data\n",
        "data = load_breast_cancer()\n",
        "X, y = data.data, data.target\n",
        "\n",
        "# Split data\n",
        "X_train, X_test, y_train, y_test = train_test_split(X, y, test_size=0.3, random_state=42)\n",
        "\n",
        "# Train model\n",
        "model = SVC()\n",
        "model.fit(X_train, y_train)\n",
        "y_pred = model.predict(X_test)\n",
        "\n",
        "# Evaluate\n",
        "print(\"Precision:\", precision_score(y_test, y_pred))\n",
        "print(\"Recall:\", recall_score(y_test, y_pred))\n",
        "print(\"F1 Score:\", f1_score(y_test, y_pred))\n"
      ],
      "metadata": {
        "colab": {
          "base_uri": "https://localhost:8080/"
        },
        "id": "OvlWuEt3p369",
        "outputId": "4cb09d84-ce06-43d6-baf0-a8137cf2ba06"
      },
      "execution_count": 24,
      "outputs": [
        {
          "output_type": "stream",
          "name": "stdout",
          "text": [
            "Precision: 0.907563025210084\n",
            "Recall: 1.0\n",
            "F1 Score: 0.9515418502202643\n"
          ]
        }
      ]
    },
    {
      "cell_type": "code",
      "source": [
        "from sklearn.naive_bayes import GaussianNB\n",
        "from sklearn.datasets import load_breast_cancer\n",
        "from sklearn.model_selection import train_test_split\n",
        "from sklearn.metrics import log_loss\n",
        "\n",
        "# Load data\n",
        "data = load_breast_cancer()\n",
        "X, y = data.data, data.target\n",
        "\n",
        "# Train/Test\n",
        "X_train, X_test, y_train, y_test = train_test_split(X, y, test_size=0.3, random_state=42)\n",
        "\n",
        "# Train model\n",
        "model = GaussianNB()\n",
        "model.fit(X_train, y_train)\n",
        "probs = model.predict_proba(X_test)\n",
        "\n",
        "# Evaluate\n",
        "print(\"Log Loss:\", log_loss(y_test, probs))\n"
      ],
      "metadata": {
        "colab": {
          "base_uri": "https://localhost:8080/"
        },
        "id": "0wQ_k9sgp5-Z",
        "outputId": "54771dc9-43fe-4cbf-d9c6-53485af0985f"
      },
      "execution_count": 25,
      "outputs": [
        {
          "output_type": "stream",
          "name": "stdout",
          "text": [
            "Log Loss: 0.48986013210958873\n"
          ]
        }
      ]
    },
    {
      "cell_type": "code",
      "source": [
        "import seaborn as sns\n",
        "import matplotlib.pyplot as plt\n",
        "from sklearn.metrics import confusion_matrix\n",
        "from sklearn.svm import SVC\n",
        "from sklearn.datasets import load_breast_cancer\n",
        "from sklearn.model_selection import train_test_split\n",
        "\n",
        "# Load data\n",
        "data = load_breast_cancer()\n",
        "X, y = data.data, data.target\n",
        "\n",
        "# Split data\n",
        "X_train, X_test, y_train, y_test = train_test_split(X, y, test_size=0.3, random_state=42)\n",
        "\n",
        "# Train model\n",
        "model = SVC()\n",
        "model.fit(X_train, y_train)\n",
        "y_pred = model.predict(X_test)\n",
        "\n",
        "# Confusion Matrix\n",
        "cm = confusion_matrix(y_test, y_pred)\n",
        "sns.heatmap(cm, annot=True, fmt='d', cmap='Blues')\n",
        "plt.title(\"Confusion Matrix\")\n",
        "plt.xlabel(\"Predicted\")\n",
        "plt.ylabel(\"Actual\")\n",
        "plt.show()\n"
      ],
      "metadata": {
        "colab": {
          "base_uri": "https://localhost:8080/",
          "height": 472
        },
        "id": "nwfqFlUEp8tM",
        "outputId": "0fa506a2-d332-4d79-c840-c19bd9880391"
      },
      "execution_count": 26,
      "outputs": [
        {
          "output_type": "display_data",
          "data": {
            "text/plain": [
              "<Figure size 640x480 with 2 Axes>"
            ],
            "image/png": "[encoded data removed]"
          },
          "metadata": {}
        }
      ]
    },
    {
      "cell_type": "code",
      "source": [
        "from sklearn.svm import SVR\n",
        "from sklearn.datasets import load_diabetes\n",
        "from sklearn.model_selection import train_test_split\n",
        "from sklearn.metrics import mean_absolute_error\n",
        "\n",
        "# Load dataset\n",
        "data = load_diabetes()\n",
        "X, y = data.data, data.target\n",
        "\n",
        "# Train/Test split\n",
        "X_train, X_test, y_train, y_test = train_test_split(X, y, test_size=0.3, random_state=42)\n",
        "\n",
        "# Train SVR\n",
        "svr = SVR()\n",
        "svr.fit(X_train, y_train)\n",
        "y_pred = svr.predict(X_test)\n",
        "\n",
        "# Evaluate\n",
        "print(\"Mean Absolute Error:\", mean_absolute_error(y_test, y_pred))\n"
      ],
      "metadata": {
        "colab": {
          "base_uri": "https://localhost:8080/"
        },
        "id": "GfPvso1bp-21",
        "outputId": "e3e9fddf-0f02-40a1-d5a8-861a0a255ed6"
      },
      "execution_count": 27,
      "outputs": [
        {
          "output_type": "stream",
          "name": "stdout",
          "text": [
            "Mean Absolute Error: 56.41472102119128\n"
          ]
        }
      ]
    },
    {
      "cell_type": "code",
      "source": [
        "from sklearn.metrics import roc_auc_score\n",
        "from sklearn.naive_bayes import GaussianNB\n",
        "from sklearn.datasets import load_breast_cancer\n",
        "from sklearn.model_selection import train_test_split\n",
        "\n",
        "# Load data\n",
        "data = load_breast_cancer()\n",
        "X, y = data.data, data.target\n",
        "\n",
        "# Train/Test\n",
        "X_train, X_test, y_train, y_test = train_test_split(X, y, test_size=0.3, random_state=42)\n",
        "\n",
        "# Train model\n",
        "model = GaussianNB()\n",
        "model.fit(X_train, y_train)\n",
        "probs = model.predict_proba(X_test)[:, 1]\n",
        "\n",
        "# ROC AUC Score\n",
        "print(\"ROC-AUC Score:\", roc_auc_score(y_test, probs))\n"
      ],
      "metadata": {
        "colab": {
          "base_uri": "https://localhost:8080/"
        },
        "id": "t9c_SAhxqAZz",
        "outputId": "8da0c227-c336-40fb-9297-8878502d4792"
      },
      "execution_count": 28,
      "outputs": [
        {
          "output_type": "stream",
          "name": "stdout",
          "text": [
            "ROC-AUC Score: 0.9922104644326867\n"
          ]
        }
      ]
    },
    {
      "cell_type": "code",
      "source": [
        "from sklearn.metrics import precision_recall_curve, PrecisionRecallDisplay\n",
        "from sklearn.svm import SVC\n",
        "from sklearn.datasets import load_breast_cancer\n",
        "from sklearn.model_selection import train_test_split\n",
        "import matplotlib.pyplot as plt\n",
        "\n",
        "# Load data\n",
        "data = load_breast_cancer()\n",
        "X, y = data.data, data.target\n",
        "\n",
        "# Split\n",
        "X_train, X_test, y_train, y_test = train_test_split(X, y, test_size=0.3, random_state=42)\n",
        "\n",
        "# Train model with probability output\n",
        "model = SVC(probability=True)\n",
        "model.fit(X_train, y_train)\n",
        "probs = model.predict_proba(X_test)[:, 1]\n",
        "\n",
        "# Plot Precision-Recall Curve\n",
        "precision, recall, _ = precision_recall_curve(y_test, probs)\n",
        "display = PrecisionRecallDisplay(precision=precision, recall=recall)\n",
        "display.plot()\n",
        "plt.title(\"Precision-Recall Curve\")\n",
        "plt.show()\n"
      ],
      "metadata": {
        "colab": {
          "base_uri": "https://localhost:8080/",
          "height": 472
        },
        "id": "xHL7NxSVqCJo",
        "outputId": "7e543fc9-a5d1-4d79-abb9-ca68fbf9984e"
      },
      "execution_count": 29,
      "outputs": [
        {
          "output_type": "display_data",
          "data": {
            "text/plain": [
              "<Figure size 640x480 with 1 Axes>"
            ],
            "image/png": "[encoded data removed]"
          },
          "metadata": {}
        }
      ]
    },
    {
      "cell_type": "code",
      "source": [],
      "metadata": {
        "id": "0ElUwBpjqD7_"
      },
      "execution_count": null,
      "outputs": []
    }
  ]
}